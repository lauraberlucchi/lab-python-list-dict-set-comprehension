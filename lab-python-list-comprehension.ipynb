{
 "cells": [
  {
   "cell_type": "markdown",
   "id": "25d7736c-ba17-4aff-b6bb-66eba20fbf4e",
   "metadata": {},
   "source": [
    "# Lab | List, Dict and Set Comprehension"
   ]
  },
  {
   "cell_type": "markdown",
   "id": "7dd3cbde-675a-4b81-92c3-f728846dbe06",
   "metadata": {},
   "source": [
    "## Exercise: Managing Customer Orders Optimized with Comprehension"
   ]
  },
  {
   "cell_type": "markdown",
   "id": "5d500160-2fb7-4777-b5e4-09d45ebaf328",
   "metadata": {},
   "source": [
    "In the previous exercise, you developed a program to manage customer orders and inventory. Now, let's take it a step further and incorporate comprehension into your code.\n",
    "\n",
    "Follow the steps below to complete the exercise:\n",
    "\n",
    "1. Review your code from the previous exercise and identify areas where you can apply comprehension to simplify and streamline your code. \n",
    "\n",
    "    - *Hint: Apply it to initialize inventory, updating the inventory and printing the updated inventory.*\n",
    "    \n",
    "    - For example, in initializing the inventory, we could have:\n",
    "    \n",
    "        ```python\n",
    "        def initialize_inventory(products):\n",
    "            inventory = {product: int(input(f\"Enter the quantity of {product}s available: \")) for product in products}\n",
    "            return inventory\n",
    "\n",
    "        ```\n",
    "<br>\n",
    "    \n",
    "    \n",
    "2. Modify the function get_customer_orders so it prompts the user to enter the number of customer orders and gathers the product names using a loop and user input. Use comprehension.\n",
    "\n",
    "3. Add a new function to calculate the total price of the customer order. For each product in customer_orders, prompt the user to enter the price of that product. Use comprehension to calculate the total price. Note: assume that the user can only have 1 unit of each product.\n",
    "\n",
    "4. Modify the update_inventory function to remove the product from the inventory if its quantity becomes zero after fulfilling the customer orders. Use comprehension to filter out the products with a quantity of zero from the inventory.\n",
    "\n",
    "5. Print the total price of the customer order.\n",
    "\n",
    "Your code should produce output similar to the following:\n",
    "\n",
    "```python\n",
    "Enter the quantity of t-shirts available:  5\n",
    "Enter the quantity of mugs available:  4\n",
    "Enter the quantity of hats available:  3\n",
    "Enter the quantity of books available:  2\n",
    "Enter the quantity of keychains available:  1\n",
    "Enter the number of customer orders:  2\n",
    "Enter the name of a product that a customer wants to order:  hat\n",
    "Enter the name of a product that a customer wants to order:  keychain\n",
    "\n",
    "Order Statistics:\n",
    "Total Products Ordered: 2\n",
    "Percentage of Unique Products Ordered: 40.0\n",
    "\n",
    "Updated Inventory:\n",
    "t-shirt: 5\n",
    "mug: 4\n",
    "hat: 2\n",
    "book: 2\n",
    "Enter the price of keychain:  5\n",
    "Enter the price of hat:  10\n",
    "Total Price: 15.0\n",
    "\n",
    "```\n"
   ]
  },
  {
   "cell_type": "code",
   "execution_count": 2,
   "id": "ba22044a",
   "metadata": {},
   "outputs": [
    {
     "name": "stdout",
     "output_type": "stream",
     "text": [
      "{'t-shirt': 3, 'mug': 4, 'hat': 5, 'book': 6, 'keychain': 7}\n"
     ]
    }
   ],
   "source": [
    "# point 1.\n",
    "products=[\"t-shirt\", \"mug\", \"hat\", \"book\", \"keychain\"]\n",
    "\n",
    "def initialize_inventory(products):\n",
    "    inventory = {product: int(input(f'Enter the number of {product} in stock: ')) for product in products}\n",
    "    return inventory\n",
    "\n",
    "inventory = initialize_inventory(products)\n",
    "print(inventory)"
   ]
  },
  {
   "cell_type": "code",
   "execution_count": 3,
   "id": "67b9872b",
   "metadata": {},
   "outputs": [
    {
     "name": "stdout",
     "output_type": "stream",
     "text": [
      "{'mug', 'hat', 'book'}\n"
     ]
    }
   ],
   "source": [
    "# point 2. Modify the function get_customer_orders so it prompts the user to enter the number of customer orders \n",
    "#and gathers the product names using a loop and user input. Use comprehension.\n",
    "\n",
    "products = products = [\"t-shirt\", \"mug\", \"hat\", \"book\", \"keychain\"]\n",
    "\n",
    "def get_customer_orders():\n",
    "\n",
    "    customer_orders = set()\n",
    "    number_customer_orders = int(input('Enter the number of customer orders: '))\n",
    "\n",
    "\n",
    "    ordered_products = [input('Enter the name of a product that a customer wants to order: ') for i in range(number_customer_orders)]\n",
    "    \n",
    "    customer_orders = {product if product in products else print('This is not an item available') for product in ordered_products}\n",
    "        \n",
    "    return customer_orders\n",
    "\n",
    "\n",
    "customer_orders = get_customer_orders()\n",
    "print(customer_orders)\n"
   ]
  },
  {
   "cell_type": "code",
   "execution_count": 4,
   "id": "1bd33247",
   "metadata": {},
   "outputs": [
    {
     "name": "stdout",
     "output_type": "stream",
     "text": [
      "[12]\n"
     ]
    }
   ],
   "source": [
    "#point 3\n",
    "def calculate_total_price(customer_orders):\n",
    "    total_price = 0\n",
    "    total_price = [sum(int(input(f'enter the price of a unit of {product}')) for product in customer_orders)]\n",
    "    '''for product in customer_orders:\n",
    "        price = int(input(f'Enter the price for a unit of {product}: '))\n",
    "        total_price += price'''\n",
    "\n",
    "    return total_price\n",
    "\n",
    "total_price=calculate_total_price(customer_orders)\n",
    "print(total_price)\n"
   ]
  },
  {
   "cell_type": "code",
   "execution_count": 15,
   "id": "ed43717c",
   "metadata": {},
   "outputs": [
    {
     "name": "stdout",
     "output_type": "stream",
     "text": [
      "Total price of the customer order is:  12 \n"
     ]
    }
   ],
   "source": [
    "#point 5\n",
    "\n",
    "def print_total_price(customer_orders):\n",
    "\n",
    "    total_price_text = str(total_price)\n",
    "    total_price_clean = total_price_text.replace('[', ' ').replace(']', ' ')\n",
    "    \n",
    "    print(f'Total price of the customer order is: {total_price_clean}')\n",
    "\n",
    "print_total_price(customer_orders)"
   ]
  },
  {
   "cell_type": "code",
   "execution_count": 17,
   "id": "cfd864d8",
   "metadata": {},
   "outputs": [
    {
     "name": "stdout",
     "output_type": "stream",
     "text": [
      "{'t-shirt': 3, 'mug': 4, 'hat': 5, 'book': 6, 'keychain': 7}\n",
      "{'t-shirt': 3, 'mug': 3, 'hat': 4, 'book': 5, 'keychain': 7}\n"
     ]
    }
   ],
   "source": [
    "#point 4\n",
    "print(inventory)\n",
    "\n",
    "def update_inventory(customer_orders, inventory):\n",
    "\n",
    "    '''in the following dict comprehension I define update_inventory as a new dictionary \n",
    "    with the same keys as inventory. The values are the quantities -1 if the product is\n",
    "    also an element of the customer_orders set, else they are the same as in inventory'''\n",
    "    \n",
    "    updated_inventory = {product:((inventory.get(product, 0)-1) if product in customer_orders else inventory.get(product)) for product in inventory}\n",
    "    \n",
    "    '''Modify the update_inventory function to remove the product from the inventory \n",
    "    if its quantity becomes zero after fulfilling the customer orders. \n",
    "    Use comprehension to filter out the products with a quantity of zero from the inventory'''\n",
    "    \n",
    "    '''for product, quantity in updated_inventory.items():\n",
    "        if quantity == 0:\n",
    "            updated_inventory.remove(product, quantity)'''\n",
    "\n",
    "    updated_inventory = {product: quantity for product, quantity in updated_inventory.items() if quantity != 0}\n",
    "\n",
    "    return updated_inventory\n",
    "\n",
    "updated_inventory=update_inventory(customer_orders, inventory)\n",
    "print(updated_inventory)\n",
    "        "
   ]
  },
  {
   "cell_type": "code",
   "execution_count": 31,
   "id": "ccba5db1",
   "metadata": {},
   "outputs": [
    {
     "name": "stdout",
     "output_type": "stream",
     "text": [
      "The updated inventory is now as follows:\n",
      "t-shirt: 3\n",
      "mug: 3\n",
      "hat: 4\n",
      "book: 5\n",
      "keychain: 7\n"
     ]
    }
   ],
   "source": [
    "#Print the updated inventory, displaying the quantity of each product on separate lines\n",
    "def print_updated_inventory(inventory):\n",
    "\n",
    "    print('The updated inventory is now as follows:')\n",
    "    for product, quantity in updated_inventory.items():\n",
    "        print(f'{product}: {quantity}')\n",
    "    \n",
    "    #print(f'{product}: {quantity}' for product, quantity in updated_inventory.items())\n",
    "    #<generator object print_updated_inventory.<locals>.<genexpr> at 0x000002895E6D97E0>\n",
    "    #also in this case I cannot understand how to apply comprehension...can I do it whitin the print function?\n",
    "\n",
    "\n",
    "print_updated_inventory(inventory)"
   ]
  },
  {
   "cell_type": "code",
   "execution_count": 18,
   "id": "0840fba7",
   "metadata": {},
   "outputs": [
    {
     "name": "stdout",
     "output_type": "stream",
     "text": [
      "(3, {'mug': 25.0, 'hat': 20.0, 'book': 16.67})\n"
     ]
    }
   ],
   "source": [
    "\n",
    "def calculate_order_statistics(customer_orders, products):\n",
    "    # the function should return total_products_ordered and percentage_unique_product_ordered\n",
    "    percentage_every_product_ordered = {}\n",
    "    total_products_ordered = 0\n",
    "\n",
    "    for product in customer_orders:\n",
    "        total_products_ordered += 1\n",
    "        percentage_product_ordered = (1/inventory[product])*100\n",
    "        percentage_every_product_ordered[product]=round(percentage_product_ordered, 2)\n",
    "\n",
    "    return total_products_ordered, percentage_every_product_ordered\n",
    "\n",
    "calculate_order_statistics(customer_orders, products)\n",
    "order_statistics = calculate_order_statistics(customer_orders, products)\n",
    "print(order_statistics)"
   ]
  },
  {
   "cell_type": "code",
   "execution_count": 19,
   "id": "be92028e",
   "metadata": {},
   "outputs": [
    {
     "name": "stdout",
     "output_type": "stream",
     "text": [
      "Order statistics: \n",
      "Total Products Ordered: 3\n",
      "Percentage of mug ordered: 25.0%\n",
      "Percentage of hat ordered: 20.0%\n",
      "Percentage of book ordered: 16.67%\n"
     ]
    }
   ],
   "source": [
    "# I could not find a way to apply comprehension at this code\n",
    "\n",
    "def print_order_statistics(order_statistics):\n",
    "    total_products_ordered = order_statistics[0]\n",
    "    percentage_every_product_ordered = order_statistics[1]\n",
    "    print(f'Order statistics: ')\n",
    "    print(f'Total Products Ordered: {total_products_ordered}')\n",
    "    for product, percentage in percentage_every_product_ordered.items():\n",
    "        print(f'Percentage of {product} ordered: {percentage}%')\n",
    "\n",
    "print_order_statistics(order_statistics)"
   ]
  }
 ],
 "metadata": {
  "kernelspec": {
   "display_name": "Python 3 (ipykernel)",
   "language": "python",
   "name": "python3"
  },
  "language_info": {
   "codemirror_mode": {
    "name": "ipython",
    "version": 3
   },
   "file_extension": ".py",
   "mimetype": "text/x-python",
   "name": "python",
   "nbconvert_exporter": "python",
   "pygments_lexer": "ipython3",
   "version": "3.11.4"
  }
 },
 "nbformat": 4,
 "nbformat_minor": 5
}
